{
 "cells": [
  {
   "cell_type": "markdown",
   "id": "1b0452ce",
   "metadata": {},
   "source": [
    "# FIT5226 Project: Multi-Agent Q-Learning Solution\n",
    "**Options Purchased:** Opposite‑type neighbor sensor (3), Central clock (1), Off‑the‑job training (2)\n",
    "\n",
    "This notebook implements a 5×5 grid-world with 4 agents learning an infinite shuttle task (A↔B) using Q-learning only. It includes budgets, head-on collision detection, performance evaluation, and the required options."
   ]
  },
  {
   "cell_type": "code",
   "execution_count": 1,
   "id": "cbf0887f",
   "metadata": {},
   "outputs": [],
   "source": [
    "# 1. Imports & Hyperparameters\n",
    "import numpy as np\n",
    "import random\n",
    "import time\n",
    "import pickle\n",
    "import matplotlib.pyplot as plt\n",
    "\n",
    "GRID_SIZE = 5\n",
    "NUM_AGENTS = 4\n",
    "# Budgets\n",
    "STEP_BUDGET = 1_500_000\n",
    "COLLISION_BUDGET = 4000\n",
    "WALLTIME_BUDGET = 600  # seconds\n",
    "# Learning hyperparams\n",
    "EPSILON = 0.1\n",
    "ALPHA = 1e-3\n",
    "GAMMA = 0.99\n"
   ]
  },
  {
   "cell_type": "code",
   "execution_count": 2,
   "id": "35abc690",
   "metadata": {},
   "outputs": [],
   "source": [
    "# 2. Environment & Agent Definition\n",
    "actions = [(-1,0),(1,0),(0,-1),(0,1)]  # N, S, W, E\n",
    "\n",
    "class Agent:\n",
    "    def __init__(self, idx, shared_q):\n",
    "        self.idx = idx\n",
    "        self.q_table = shared_q\n",
    "        self.epsilon = EPSILON\n",
    "        self.alpha = ALPHA\n",
    "        self.gamma = GAMMA\n",
    "\n",
    "    def reset(self, A_loc, B_loc, start_at_A):\n",
    "        # Off-the-job: fixed start at A or B\n",
    "        self.pos = A_loc if start_at_A else B_loc\n",
    "        self.carrying = start_at_A\n",
    "\n",
    "    def get_neighbors_state(self, grid, agents):\n",
    "        # Opposite-type neighbor sensor\n",
    "        bits = ''\n",
    "        for dx, dy in actions:\n",
    "            nx, ny = self.pos[0] + dx, self.pos[1] + dy\n",
    "            if 0 <= nx < GRID_SIZE and 0 <= ny < GRID_SIZE and grid[nx][ny] != -1:\n",
    "                other = agents[grid[nx][ny]]\n",
    "                if other.carrying != self.carrying:\n",
    "                    bits += '1'\n",
    "                    continue\n",
    "            bits += '0'\n",
    "        return bits\n",
    "\n",
    "    def get_state(self, A_loc, B_loc, grid, agents):\n",
    "        # State includes own pos, carrying, neighbor mask, + A and B coords\n",
    "        neighbors = self.get_neighbors_state(grid, agents)\n",
    "        return (self.pos[0], self.pos[1], int(self.carrying), neighbors,\n",
    "                A_loc[0], A_loc[1], B_loc[0], B_loc[1])\n",
    "\n",
    "    def choose_action(self, state, eval_mode=False):\n",
    "        if (not eval_mode and random.random() < self.epsilon) or state not in self.q_table:\n",
    "            return random.randint(0, 3)\n",
    "        return int(np.argmax(self.q_table[state]))\n",
    "\n",
    "    def update_q(self, s, a, r, sp):\n",
    "        if s not in self.q_table:\n",
    "            self.q_table[s] = [0.0] * 4\n",
    "        if sp not in self.q_table:\n",
    "            self.q_table[sp] = [0.0] * 4\n",
    "        max_next = max(self.q_table[sp])\n",
    "        self.q_table[s][a] += self.alpha * (r + self.gamma * max_next - self.q_table[s][a])\n"
   ]
  },
  {
   "cell_type": "code",
   "execution_count": 3,
   "id": "5a9cdb39",
   "metadata": {},
   "outputs": [],
   "source": [
    "# Helper: detect head-on collisions (including swaps), ignoring cells A/B\n",
    "def detect_head_on(proposed, current, carrying, A_loc, B_loc):\n",
    "    collisions = set()\n",
    "    n = len(proposed)\n",
    "    for i in range(n):\n",
    "        for j in range(i+1, n):\n",
    "            # both move into same cell\n",
    "            if proposed[i] == proposed[j] and carrying[i] != carrying[j]:\n",
    "                if proposed[i] not in {A_loc, B_loc}:\n",
    "                    collisions.update({i, j})\n",
    "            # swap positions\n",
    "            if proposed[i] == current[j] and proposed[j] == current[i] and carrying[i] != carrying[j]:\n",
    "                if proposed[i] not in {A_loc, B_loc}:\n",
    "                    collisions.update({i, j})\n",
    "    return collisions\n"
   ]
  },
  {
   "cell_type": "code",
   "execution_count": 9,
   "id": "ac7c5458",
   "metadata": {},
   "outputs": [
    {
     "name": "stdout",
     "output_type": "stream",
     "text": [
      "Training done: episodes=1038, steps=83040, collisions=4002, time=1.1s\n"
     ]
    }
   ],
   "source": [
    "# 3. Training Loop\n",
    "shared_q = {}\n",
    "agents = [Agent(i, shared_q) for i in range(NUM_AGENTS)]\n",
    "\n",
    "metrics = {'episodes': [], 'steps': [], 'collisions': []}\n",
    "total_steps = 0\n",
    "collision_count = 0\n",
    "start_time = time.time()\n",
    "\n",
    "episode = 0\n",
    "while (total_steps < STEP_BUDGET and collision_count < COLLISION_BUDGET and \n",
    "       (time.time() - start_time) < WALLTIME_BUDGET):\n",
    "    # Randomize A and B each episode\n",
    "    cells = [(x, y) for x in range(GRID_SIZE) for y in range(GRID_SIZE)]\n",
    "    A_loc, B_loc = random.sample(cells, 2)\n",
    "\n",
    "    # Off-the-job: half agents start at A, half at B\n",
    "    starts = [i < (NUM_AGENTS // 2) for i in range(NUM_AGENTS)]\n",
    "\n",
    "    # Initialize grid and agents\n",
    "    grid = [[-1] * GRID_SIZE for _ in range(GRID_SIZE)]\n",
    "    for i, ag in enumerate(agents):\n",
    "        ag.reset(A_loc, B_loc, starts[i])\n",
    "        grid[ag.pos[0]][ag.pos[1]] = i\n",
    "\n",
    "    # Run a 20-step sub-episode\n",
    "    for _ in range(20):\n",
    "        current_positions = [ag.pos for ag in agents]\n",
    "        carrying_states = [ag.carrying for ag in agents]\n",
    "        \n",
    "        # Propose moves (central clock fixed order)\n",
    "        proposals = []\n",
    "        states_actions = []\n",
    "        for ag in agents:\n",
    "            st = ag.get_state(A_loc, B_loc, grid, agents)\n",
    "            a = ag.choose_action(st)\n",
    "            dx, dy = actions[a]\n",
    "            x, y = ag.pos\n",
    "            proposals.append((min(max(x+dx, 0), GRID_SIZE-1), min(max(y+dy, 0), GRID_SIZE-1)))\n",
    "            states_actions.append((st, a))\n",
    "\n",
    "        # Detect head-on collisions\n",
    "        colliding = detect_head_on(proposals, current_positions, carrying_states, A_loc, B_loc)\n",
    "\n",
    "        # Execute moves and Q-updates\n",
    "        new_grid = [[-1] * GRID_SIZE for _ in range(GRID_SIZE)]\n",
    "        for idx, ag in enumerate(agents):\n",
    "            total_steps += 1\n",
    "            prev_st, act = states_actions[idx]\n",
    "            ag.pos = proposals[idx]\n",
    "            # Pickup/drop reward\n",
    "            r = 0\n",
    "            if ag.pos == A_loc and not ag.carrying:\n",
    "                ag.carrying = True\n",
    "                r += 1\n",
    "            elif ag.pos == B_loc and ag.carrying:\n",
    "                ag.carrying = False\n",
    "                r += 1\n",
    "            # Collision penalty\n",
    "            if idx in colliding:\n",
    "                collision_count += 1\n",
    "                r -= 10\n",
    "            # Q-table update\n",
    "            next_st = ag.get_state(A_loc, B_loc, new_grid, agents)\n",
    "            ag.update_q(prev_st, act, r, next_st)\n",
    "            # Update grid\n",
    "            new_grid[ag.pos[0]][ag.pos[1]] = idx\n",
    "        grid = new_grid\n",
    "\n",
    "    episode += 1\n",
    "    metrics['episodes'].append(episode)\n",
    "    metrics['steps'].append(total_steps)\n",
    "    metrics['collisions'].append(collision_count)\n",
    "\n",
    "print(f\"Training done: episodes={episode}, steps={total_steps}, collisions={collision_count}, time={time.time()-start_time:.1f}s\")"
   ]
  },
  {
   "cell_type": "code",
   "execution_count": 10,
   "id": "5c747291",
   "metadata": {},
   "outputs": [
    {
     "data": {
      "image/png": "[encoded data removed]",
      "text/plain": [
       "<Figure size 600x400 with 1 Axes>"
      ]
     },
     "metadata": {},
     "output_type": "display_data"
    }
   ],
   "source": [
    "# 4. Training Metrics Plot\n",
    "plt.figure(figsize=(6,4))\n",
    "plt.plot(metrics['episodes'], metrics['collisions'], label='Collisions')\n",
    "plt.xlabel('Episode')\n",
    "plt.ylabel('Cumulative Collisions')\n",
    "plt.title('Collisions over Training Episodes')\n",
    "plt.legend()\n",
    "plt.show()"
   ]
  },
  {
   "cell_type": "code",
   "execution_count": 11,
   "id": "ec7c6db7",
   "metadata": {},
   "outputs": [
    {
     "name": "stdout",
     "output_type": "stream",
     "text": [
      "Success rate: 6.0%\n"
     ]
    }
   ],
   "source": [
    "# 5. Performance Evaluation\n",
    "def evaluate(agents, trials=100, max_steps=25):\n",
    "    succ = 0\n",
    "    for _ in range(trials):\n",
    "        cells = [(x, y) for x in range(GRID_SIZE) for y in range(GRID_SIZE)]\n",
    "        A_loc, B_loc = random.sample(cells, 2)\n",
    "        grid = [[-1] * GRID_SIZE for _ in range(GRID_SIZE)]\n",
    "        for ag in agents:\n",
    "            ag.reset(A_loc, B_loc, False)\n",
    "            grid[ag.pos[0]][ag.pos[1]] = ag.idx\n",
    "        collision = False\n",
    "        delivered = [False]*NUM_AGENTS\n",
    "        for _ in range(max_steps):\n",
    "            curr = [ag.pos for ag in agents]\n",
    "            carry = [ag.carrying for ag in agents]\n",
    "            props = []\n",
    "            for ag in agents:\n",
    "                st = ag.get_state(A_loc, B_loc, grid, agents)\n",
    "                a = ag.choose_action(st, eval_mode=True)\n",
    "                dx, dy = actions[a]\n",
    "                x, y = ag.pos\n",
    "                props.append((min(max(x+dx, 0), GRID_SIZE-1), min(max(y+dy, 0), GRID_SIZE-1)))\n",
    "            coll = detect_head_on(props, curr, carry, A_loc, B_loc)\n",
    "            if coll:\n",
    "                collision = True\n",
    "                break\n",
    "            grid = [[-1]*GRID_SIZE for _ in range(GRID_SIZE)]\n",
    "            for i, ag in enumerate(agents):\n",
    "                ag.pos = props[i]\n",
    "                if ag.pos == A_loc and not ag.carrying:\n",
    "                    ag.carrying = True\n",
    "                elif ag.pos == B_loc and ag.carrying:\n",
    "                    ag.carrying = False\n",
    "                    delivered[i] = True\n",
    "                grid[ag.pos[0]][ag.pos[1]] = i\n",
    "            if any(delivered):\n",
    "                break\n",
    "        if any(delivered) and not collision:\n",
    "            succ += 1\n",
    "    rate = succ / trials * 100\n",
    "    print(f\"Success rate: {rate:.1f}%\")\n",
    "    return rate\n",
    "\n",
    "rate = evaluate(agents)\n"
   ]
  }
 ],
 "metadata": {
  "kernelspec": {
   "display_name": "venv",
   "language": "python",
   "name": "python3"
  },
  "language_info": {
   "codemirror_mode": {
    "name": "ipython",
    "version": 3
   },
   "file_extension": ".py",
   "mimetype": "text/x-python",
   "name": "python",
   "nbconvert_exporter": "python",
   "pygments_lexer": "ipython3",
   "version": "3.10.11 (tags/v3.10.11:7d4cc5a, Apr  5 2023, 00:38:17) [MSC v.1929 64 bit (AMD64)]"
  },
  "vscode": {
   "interpreter": {
    "hash": "a9fcf72cb52c3da5a391be76d80cc572260da94cda47ff688c923f8cfb7406a9"
   }
  }
 },
 "nbformat": 4,
 "nbformat_minor": 5
}
